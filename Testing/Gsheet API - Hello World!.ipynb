{
 "cells": [
  {
   "cell_type": "code",
   "execution_count": 1,
   "metadata": {
    "scrolled": true
   },
   "outputs": [],
   "source": [
    "#User Entry\n",
    "Message = \"Yo\"\n",
    "Name = 'R'\n",
    "\n"
   ]
  },
  {
   "cell_type": "code",
   "execution_count": 2,
   "metadata": {},
   "outputs": [
    {
     "name": "stdout",
     "output_type": "stream",
     "text": [
      "[{'Message': 'I <3 u, bird.',\n",
      "  'Timestamp': '\"2020-08-12T23:37:04.208997\"',\n",
      "  'Username': 'R'},\n",
      " {'Message': \"I'm impressed.\",\n",
      "  'Timestamp': '\"2020-08-12T23:15:48.897914\"',\n",
      "  'Username': 'bird'},\n",
      " {'Message': 'Hello world.',\n",
      "  'Timestamp': '\"2020-08-12T23:14:52.158883\"',\n",
      "  'Username': 'R'},\n",
      " {'Message': 'Hello world.',\n",
      "  'Timestamp': '\"2020-08-12T23:08:06.530880\"',\n",
      "  'Username': 'R'}]\n",
      "[{'Message': 'Yo',\n",
      "  'Timestamp': '\"2020-08-14T17:26:29.444185\"',\n",
      "  'Username': 'R'},\n",
      " {'Message': 'I <3 u, bird.',\n",
      "  'Timestamp': '\"2020-08-12T23:37:04.208997\"',\n",
      "  'Username': 'R'},\n",
      " {'Message': \"I'm impressed.\",\n",
      "  'Timestamp': '\"2020-08-12T23:15:48.897914\"',\n",
      "  'Username': 'bird'},\n",
      " {'Message': 'Hello world.',\n",
      "  'Timestamp': '\"2020-08-12T23:14:52.158883\"',\n",
      "  'Username': 'R'},\n",
      " {'Message': 'Hello world.',\n",
      "  'Timestamp': '\"2020-08-12T23:08:06.530880\"',\n",
      "  'Username': 'R'}]\n"
     ]
    }
   ],
   "source": [
    "#Config\n",
    "Username = Name\n",
    "SheetName = 'Gsheet Python API'\n",
    "UsernameCol = 1\n",
    "MessageCol = 2\n",
    "TimeStampCol = 3\n",
    "UpdateRow = 2\n",
    "\n",
    "#Get Sheet\n",
    "import gspread\n",
    "from google.oauth2.service_account import Credentials\n",
    "scope = ['https://spreadsheets.google.com/feeds','https://www.googleapis.com/auth/drive']\n",
    "creds = Credentials.from_service_account_file('client_secret.json', scopes=scope)\n",
    "client = gspread.authorize(creds)\n",
    "sheet = client.open(SheetName).sheet1\n",
    "result = sheet.get_all_records()\n",
    "\n",
    "#Print All Records\n",
    "import pprint\n",
    "pp = pprint.PrettyPrinter()\n",
    "pp.pprint(result)\n",
    "\n",
    "#Format Timestamp\n",
    "from datetime import date, datetime\n",
    "from json import dumps\n",
    "\n",
    "def json_serial(obj):\n",
    "    \"\"\"JSON serializer for objects not serializable by default json code\"\"\"\n",
    "    if isinstance(obj, (datetime, date)):\n",
    "        return obj.isoformat()\n",
    "    raise TypeError (\"Type %s not serializable\" % type(obj))\n",
    "\n",
    "#Determine Username\n",
    "if len(Username)>0:\n",
    "    Username = Username\n",
    "elif sheet.cell(UpdateRow,UsernameCol).value == 'me':\n",
    "    Username = 'you'\n",
    "elif sheet.cell(UpdateRow,UsernameCol).value == 'you':\n",
    "    Username = 'me'\n",
    "    \n",
    "#Update Sheet\n",
    "sheet.insert_row(['','',''],UpdateRow)\n",
    "sheet.update_cell(UpdateRow,UsernameCol,Username)\n",
    "sheet.update_cell(UpdateRow,MessageCol,Message)\n",
    "sheet.update_cell(UpdateRow,TimeStampCol,dumps(datetime.now(), default=json_serial))\n",
    "result = sheet.get_all_records()\n",
    "\n",
    "#Print All Records After Update\n",
    "pp.pprint(result)\n"
   ]
  },
  {
   "cell_type": "code",
   "execution_count": 3,
   "metadata": {},
   "outputs": [
    {
     "ename": "ModuleNotFoundError",
     "evalue": "No module named 'datetime.datetime'; 'datetime' is not a package",
     "output_type": "error",
     "traceback": [
      "\u001b[1;31m---------------------------------------------------------------------------\u001b[0m",
      "\u001b[1;31mModuleNotFoundError\u001b[0m                       Traceback (most recent call last)",
      "\u001b[1;32m<ipython-input-3-02022449c063>\u001b[0m in \u001b[0;36m<module>\u001b[1;34m\u001b[0m\n\u001b[1;32m----> 1\u001b[1;33m \u001b[1;32mimport\u001b[0m \u001b[0mdatetime\u001b[0m\u001b[1;33m.\u001b[0m\u001b[0mdatetime\u001b[0m\u001b[1;33m\u001b[0m\u001b[1;33m\u001b[0m\u001b[0m\n\u001b[0m\u001b[0;32m      2\u001b[0m \u001b[0mdatetime\u001b[0m\u001b[1;33m.\u001b[0m\u001b[0mnow\u001b[0m\u001b[1;33m(\u001b[0m\u001b[1;33m)\u001b[0m\u001b[1;33m\u001b[0m\u001b[1;33m\u001b[0m\u001b[0m\n",
      "\u001b[1;31mModuleNotFoundError\u001b[0m: No module named 'datetime.datetime'; 'datetime' is not a package"
     ]
    }
   ],
   "source": [
    "import datetime.datetime\n",
    "datetime.now()"
   ]
  },
  {
   "cell_type": "code",
   "execution_count": null,
   "metadata": {},
   "outputs": [],
   "source": []
  }
 ],
 "metadata": {
  "kernelspec": {
   "display_name": "Python 3",
   "language": "python",
   "name": "python3"
  },
  "language_info": {
   "codemirror_mode": {
    "name": "ipython",
    "version": 3
   },
   "file_extension": ".py",
   "mimetype": "text/x-python",
   "name": "python",
   "nbconvert_exporter": "python",
   "pygments_lexer": "ipython3",
   "version": "3.7.6"
  }
 },
 "nbformat": 4,
 "nbformat_minor": 4
}
