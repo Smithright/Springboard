{
 "cells": [
  {
   "cell_type": "code",
   "execution_count": 1,
   "metadata": {},
   "outputs": [],
   "source": [
    "import pandas as pd\n",
    "import numpy as np\n",
    "import os\n",
    "import pickle\n",
    "import matplotlib.pyplot as plt\n",
    "import seaborn as sb\n",
    "from sklearn import __version__ as sklearn_version\n",
    "from sklearn.model_selection import cross_validate\n",
    "import bamboolib as bam"
   ]
  },
  {
   "cell_type": "code",
   "execution_count": 2,
   "metadata": {},
   "outputs": [],
   "source": [
    "# Import model\n",
    "\n",
    "expected_model_version = '1.0'\n",
    "model_path = r'C:\\Users\\1\\Documents\\GitHub\\Github_Springboard\\DataScienceGuidedCapstone-master\\Step Five - Modeling\\models\\ski_resort_pricing_model.pkl'\n",
    "if os.path.exists(model_path):\n",
    "    with open(model_path, 'rb') as f:\n",
    "        model = pickle.load(f)\n",
    "    if model.version != expected_model_version:\n",
    "        print(\"Expected model version doesn't match version loaded\")\n",
    "    if model.sklearn_version != sklearn_version:\n",
    "        print(\"Warning: model created under different sklearn version\")\n",
    "else:\n",
    "    print(\"Expected model not found\")"
   ]
  },
  {
   "cell_type": "code",
   "execution_count": 3,
   "metadata": {},
   "outputs": [],
   "source": [
    "# Import data\n",
    "ski_data = pd.read_csv(r'C:\\Users\\1\\Documents\\GitHub\\Github_Springboard\\DataScienceGuidedCapstone-master\\Step Four - Preprocessing and Training\\data\\ski_data_step4_features.csv')"
   ]
  },
  {
   "cell_type": "code",
   "execution_count": 4,
   "metadata": {},
   "outputs": [],
   "source": [
    "# Define subset for plot data\n",
    "dfPlot = ski_data.copy()"
   ]
  },
  {
   "cell_type": "code",
   "execution_count": 5,
   "metadata": {},
   "outputs": [],
   "source": [
    "# Subset rows for plot data\n",
    "dfPlot.dropna(subset=['AdultWeekend'], inplace=True)"
   ]
  },
  {
   "cell_type": "code",
   "execution_count": 6,
   "metadata": {},
   "outputs": [],
   "source": [
    "# Subset cols for model prediction\n",
    "x_features = dfPlot.set_index(['Name','Region','state']).copy()\n",
    "x_bmr = x_features.loc['Big Mountain Resort',model.X_columns].copy()"
   ]
  },
  {
   "cell_type": "code",
   "execution_count": 7,
   "metadata": {},
   "outputs": [],
   "source": [
    "# Define model plot parameters\n",
    "modelPlotCount = 10\n",
    "maxVals = x_features.max()\n",
    "minVals = x_features.min()\n",
    "plotInterval = (maxVals - minVals) / modelPlotCount\n",
    "xColsCount = len(model.X_columns)"
   ]
  },
  {
   "cell_type": "code",
   "execution_count": 8,
   "metadata": {},
   "outputs": [],
   "source": [
    "# Define empty DataFrames for iterating through model prediction scenarios\n",
    "df = pd.DataFrame(index=[i for i in range(0,modelPlotCount)], columns = model.X_columns, dtype=float).copy()\n",
    "x_modelVars = df.copy()\n",
    "y_modelOutput = df.copy()"
   ]
  },
  {
   "cell_type": "code",
   "execution_count": 9,
   "metadata": {},
   "outputs": [],
   "source": [
    "# Populate x_modelVars with features variables at each interval\n",
    "x_modelVars.iloc[0,:] = minVals\n",
    "for i in range(1,modelPlotCount):\n",
    "    x_modelVars.iloc[i,:] = x_modelVars.iloc[i-1,:] + plotInterval"
   ]
  },
  {
   "cell_type": "code",
   "execution_count": 10,
   "metadata": {},
   "outputs": [
    {
     "name": "stdout",
     "output_type": "stream",
     "text": [
      "c0\n",
      "c1\n",
      "c2\n",
      "c3\n",
      "c4\n",
      "c5\n",
      "c6\n",
      "c7\n",
      "c8\n",
      "c9\n",
      "c10\n",
      "c11\n",
      "c12\n",
      "c13\n",
      "c14\n",
      "c15\n",
      "c16\n",
      "c17\n",
      "c18\n",
      "c19\n",
      "c20\n",
      "c21\n",
      "c22\n",
      "c23\n",
      "c24\n",
      "c25\n",
      "c26\n",
      "c27\n",
      "c28\n",
      "c29\n",
      "c30\n",
      "c31\n"
     ]
    }
   ],
   "source": [
    "# Populate y_modelOutput with adjusted predictions for each value in x_modelVars\n",
    "for col in range(0,xColsCount):\n",
    "    for row in range(0,modelPlotCount):\n",
    "        x_bmrMod = x_bmr.copy()\n",
    "        x_bmrMod.iloc[0,col] = x_modelVars.iloc[row,col]\n",
    "        y_modelOutput.iloc[row,col] = model.predict(x_bmrMod).item()\n",
    "        #print('r' + str(row))\n",
    "    print('c' + str(col))"
   ]
  },
  {
   "cell_type": "code",
   "execution_count": 11,
   "metadata": {},
   "outputs": [],
   "source": [
    "#y_modelOutput"
   ]
  },
  {
   "cell_type": "code",
   "execution_count": 283,
   "metadata": {},
   "outputs": [],
   "source": [
    "plotFeatures = 'fastQuads'"
   ]
  },
  {
   "cell_type": "code",
   "execution_count": 284,
   "metadata": {},
   "outputs": [],
   "source": [
    "sPlotData = dfPlot.copy()"
   ]
  },
  {
   "cell_type": "code",
   "execution_count": 285,
   "metadata": {},
   "outputs": [],
   "source": [
    "sPlotData = sPlotData.set_index('Name')"
   ]
  },
  {
   "cell_type": "code",
   "execution_count": 286,
   "metadata": {},
   "outputs": [],
   "source": [
    "def setHue(state):\n",
    "    if state == 'Montana': return 'Montana'\n",
    "    elif state in ['Idaho','Wyoming','North Dakota','South Dakota']: return 'Adjacent State'\n",
    "    else: return 'Other'"
   ]
  },
  {
   "cell_type": "code",
   "execution_count": 287,
   "metadata": {},
   "outputs": [],
   "source": [
    "sPlotData['hue'] = sPlotData['state'].apply(setHue)"
   ]
  },
  {
   "cell_type": "code",
   "execution_count": 288,
   "metadata": {},
   "outputs": [],
   "source": [
    "sPlotData.loc['Big Mountain Resort','hue'] = 'Big Mountain Resort'"
   ]
  },
  {
   "cell_type": "code",
   "execution_count": 289,
   "metadata": {},
   "outputs": [
    {
     "data": {
      "text/plain": [
       "'Big Mountain Resort'"
      ]
     },
     "execution_count": 289,
     "metadata": {},
     "output_type": "execute_result"
    }
   ],
   "source": [
    "sPlotData.loc['Big Mountain Resort','hue']"
   ]
  },
  {
   "cell_type": "code",
   "execution_count": 290,
   "metadata": {},
   "outputs": [],
   "source": [
    "sPlotData['PointSize'] = 0"
   ]
  },
  {
   "cell_type": "code",
   "execution_count": 291,
   "metadata": {},
   "outputs": [],
   "source": [
    "sPlotData.loc['Big Mountain Resort','PointSize'] = 5"
   ]
  },
  {
   "cell_type": "code",
   "execution_count": 292,
   "metadata": {},
   "outputs": [
    {
     "data": {
      "image/png": "[encoded data removed]",
      "text/plain": [
       "<Figure size 1440x720 with 1 Axes>"
      ]
     },
     "metadata": {
      "needs_background": "light"
     },
     "output_type": "display_data"
    }
   ],
   "source": [
    "sb.set_context(\"talk\", font_scale=1.1)\n",
    "plt.figure(figsize=(20,10))\n",
    "sb.scatterplot(x=plotFeatures, y='AdultWeekend', hue='hue', data=sPlotData, size='PointSize')\n",
    "\n",
    "plt.legend(bbox_to_anchor=(1.01, 1),borderaxespad=0)\n",
    "plt.tight_layout()\n",
    "\n",
    "plt.savefig(\"default_legend_position_Seaborn_scatterplot.png\",\n",
    "                    format='png',dpi=150)"
   ]
  },
  {
   "cell_type": "code",
   "execution_count": null,
   "metadata": {},
   "outputs": [],
   "source": []
  },
  {
   "cell_type": "code",
   "execution_count": 365,
   "metadata": {},
   "outputs": [],
   "source": [
    "ax2 = ax.twinx()"
   ]
  },
  {
   "cell_type": "code",
   "execution_count": 296,
   "metadata": {},
   "outputs": [],
   "source": [
    "modelLine = []"
   ]
  },
  {
   "cell_type": "code",
   "execution_count": 297,
   "metadata": {},
   "outputs": [],
   "source": [
    "modelLine = pd.DataFrame(index = x_modelVars.index,dtype=float)"
   ]
  },
  {
   "cell_type": "code",
   "execution_count": 298,
   "metadata": {},
   "outputs": [
    {
     "data": {
      "text/plain": [
       "0     83.93881\n",
       "1     91.70120\n",
       "2     91.78420\n",
       "3    114.77400\n",
       "4    118.10900\n",
       "5    118.34700\n",
       "6    122.35600\n",
       "7    122.80500\n",
       "8    123.42200\n",
       "9    123.42200\n",
       "Name: fastQuads, dtype: float64"
      ]
     },
     "execution_count": 298,
     "metadata": {},
     "output_type": "execute_result"
    }
   ],
   "source": [
    "y_modelOutput[plotFeatures]"
   ]
  },
  {
   "cell_type": "code",
   "execution_count": 299,
   "metadata": {},
   "outputs": [
    {
     "data": {
      "application/vnd.jupyter.widget-view+json": {
       "model_id": "5f0f919da5fe4c5fa29bb7074586f0d2"
      },
      "text/html": [
       "<div>\n",
       "<style scoped>\n",
       "    .dataframe tbody tr th:only-of-type {\n",
       "        vertical-align: middle;\n",
       "    }\n",
       "\n",
       "    .dataframe tbody tr th {\n",
       "        vertical-align: top;\n",
       "    }\n",
       "\n",
       "    .dataframe thead th {\n",
       "        text-align: right;\n",
       "    }\n",
       "</style>\n",
       "<table border=\"1\" class=\"dataframe\">\n",
       "  <thead>\n",
       "    <tr style=\"text-align: right;\">\n",
       "      <th></th>\n",
       "      <th>summit_elev</th>\n",
       "      <th>vertical_drop</th>\n",
       "      <th>base_elev</th>\n",
       "      <th>trams</th>\n",
       "      <th>fastSixes</th>\n",
       "      <th>fastQuads</th>\n",
       "      <th>quad</th>\n",
       "      <th>triple</th>\n",
       "      <th>double</th>\n",
       "      <th>surface</th>\n",
       "      <th>...</th>\n",
       "      <th>state_total_skiable_area_ac</th>\n",
       "      <th>state_total_days_open</th>\n",
       "      <th>state_total_terrain_parks</th>\n",
       "      <th>state_total_nightskiing_ac</th>\n",
       "      <th>resorts_per_100kcapita</th>\n",
       "      <th>resorts_per_100ksq_mile</th>\n",
       "      <th>resort_skiable_area_ac_state_ratio</th>\n",
       "      <th>resort_days_open_state_ratio</th>\n",
       "      <th>resort_terrain_park_state_ratio</th>\n",
       "      <th>resort_night_skiing_state_ratio</th>\n",
       "    </tr>\n",
       "  </thead>\n",
       "  <tbody>\n",
       "    <tr>\n",
       "      <th>0</th>\n",
       "      <td>91.21839</td>\n",
       "      <td>90.1314</td>\n",
       "      <td>91.91099</td>\n",
       "      <td>91.7842</td>\n",
       "      <td>91.7842</td>\n",
       "      <td>83.93881</td>\n",
       "      <td>90.7630</td>\n",
       "      <td>91.09619</td>\n",
       "      <td>91.78420</td>\n",
       "      <td>91.4812</td>\n",
       "      <td>...</td>\n",
       "      <td>92.93319</td>\n",
       "      <td>91.7522</td>\n",
       "      <td>92.1392</td>\n",
       "      <td>97.95299</td>\n",
       "      <td>92.7192</td>\n",
       "      <td>91.95920</td>\n",
       "      <td>90.89920</td>\n",
       "      <td>92.8282</td>\n",
       "      <td>91.9456</td>\n",
       "      <td>91.6154</td>\n",
       "    </tr>\n",
       "    <tr>\n",
       "      <th>1</th>\n",
       "      <td>91.55339</td>\n",
       "      <td>90.3174</td>\n",
       "      <td>91.90320</td>\n",
       "      <td>91.7842</td>\n",
       "      <td>91.7842</td>\n",
       "      <td>91.70120</td>\n",
       "      <td>91.2362</td>\n",
       "      <td>91.33819</td>\n",
       "      <td>91.65319</td>\n",
       "      <td>91.2492</td>\n",
       "      <td>...</td>\n",
       "      <td>92.80819</td>\n",
       "      <td>91.8212</td>\n",
       "      <td>92.2092</td>\n",
       "      <td>92.90199</td>\n",
       "      <td>92.3472</td>\n",
       "      <td>92.40819</td>\n",
       "      <td>91.76520</td>\n",
       "      <td>92.0092</td>\n",
       "      <td>91.7602</td>\n",
       "      <td>91.7882</td>\n",
       "    </tr>\n",
       "    <tr>\n",
       "      <th>2</th>\n",
       "      <td>91.79520</td>\n",
       "      <td>91.3234</td>\n",
       "      <td>91.81920</td>\n",
       "      <td>91.9152</td>\n",
       "      <td>91.7842</td>\n",
       "      <td>91.78420</td>\n",
       "      <td>91.7842</td>\n",
       "      <td>92.12019</td>\n",
       "      <td>91.56319</td>\n",
       "      <td>91.7772</td>\n",
       "      <td>...</td>\n",
       "      <td>92.97020</td>\n",
       "      <td>91.7332</td>\n",
       "      <td>92.1252</td>\n",
       "      <td>92.68000</td>\n",
       "      <td>92.0912</td>\n",
       "      <td>92.20319</td>\n",
       "      <td>92.02320</td>\n",
       "      <td>91.7942</td>\n",
       "      <td>91.6852</td>\n",
       "      <td>91.8182</td>\n",
       "    </tr>\n",
       "    <tr>\n",
       "      <th>3</th>\n",
       "      <td>91.71020</td>\n",
       "      <td>91.5282</td>\n",
       "      <td>91.75020</td>\n",
       "      <td>91.9152</td>\n",
       "      <td>92.6962</td>\n",
       "      <td>114.77400</td>\n",
       "      <td>91.7822</td>\n",
       "      <td>92.14219</td>\n",
       "      <td>91.76219</td>\n",
       "      <td>91.7842</td>\n",
       "      <td>...</td>\n",
       "      <td>92.61920</td>\n",
       "      <td>91.8702</td>\n",
       "      <td>92.0242</td>\n",
       "      <td>91.78920</td>\n",
       "      <td>91.9392</td>\n",
       "      <td>92.19419</td>\n",
       "      <td>92.06220</td>\n",
       "      <td>91.9852</td>\n",
       "      <td>91.6962</td>\n",
       "      <td>91.7722</td>\n",
       "    </tr>\n",
       "    <tr>\n",
       "      <th>4</th>\n",
       "      <td>91.44520</td>\n",
       "      <td>91.5142</td>\n",
       "      <td>91.83220</td>\n",
       "      <td>91.9152</td>\n",
       "      <td>92.6962</td>\n",
       "      <td>118.10900</td>\n",
       "      <td>91.9412</td>\n",
       "      <td>92.09019</td>\n",
       "      <td>91.76619</td>\n",
       "      <td>91.7962</td>\n",
       "      <td>...</td>\n",
       "      <td>91.74020</td>\n",
       "      <td>92.0022</td>\n",
       "      <td>91.7852</td>\n",
       "      <td>91.81320</td>\n",
       "      <td>91.7842</td>\n",
       "      <td>92.19419</td>\n",
       "      <td>92.12520</td>\n",
       "      <td>91.9852</td>\n",
       "      <td>91.8882</td>\n",
       "      <td>91.7582</td>\n",
       "    </tr>\n",
       "    <tr>\n",
       "      <th>5</th>\n",
       "      <td>91.78720</td>\n",
       "      <td>91.7392</td>\n",
       "      <td>91.72320</td>\n",
       "      <td>91.9152</td>\n",
       "      <td>92.6962</td>\n",
       "      <td>118.34700</td>\n",
       "      <td>91.9412</td>\n",
       "      <td>92.09719</td>\n",
       "      <td>91.77219</td>\n",
       "      <td>91.7962</td>\n",
       "      <td>...</td>\n",
       "      <td>91.78420</td>\n",
       "      <td>92.1984</td>\n",
       "      <td>91.8542</td>\n",
       "      <td>91.85420</td>\n",
       "      <td>91.7952</td>\n",
       "      <td>92.20819</td>\n",
       "      <td>92.23317</td>\n",
       "      <td>91.9442</td>\n",
       "      <td>91.9082</td>\n",
       "      <td>91.7812</td>\n",
       "    </tr>\n",
       "    <tr>\n",
       "      <th>6</th>\n",
       "      <td>91.80920</td>\n",
       "      <td>97.6392</td>\n",
       "      <td>91.96920</td>\n",
       "      <td>92.0572</td>\n",
       "      <td>92.7632</td>\n",
       "      <td>122.35600</td>\n",
       "      <td>91.9382</td>\n",
       "      <td>92.09819</td>\n",
       "      <td>91.77219</td>\n",
       "      <td>91.8512</td>\n",
       "      <td>...</td>\n",
       "      <td>91.83320</td>\n",
       "      <td>92.1964</td>\n",
       "      <td>91.8102</td>\n",
       "      <td>91.88020</td>\n",
       "      <td>91.8112</td>\n",
       "      <td>92.20419</td>\n",
       "      <td>93.58317</td>\n",
       "      <td>91.9012</td>\n",
       "      <td>92.0742</td>\n",
       "      <td>91.7902</td>\n",
       "    </tr>\n",
       "    <tr>\n",
       "      <th>7</th>\n",
       "      <td>92.85220</td>\n",
       "      <td>100.2120</td>\n",
       "      <td>91.82920</td>\n",
       "      <td>92.3022</td>\n",
       "      <td>92.7632</td>\n",
       "      <td>122.80500</td>\n",
       "      <td>91.7402</td>\n",
       "      <td>91.78420</td>\n",
       "      <td>91.77219</td>\n",
       "      <td>91.8362</td>\n",
       "      <td>...</td>\n",
       "      <td>91.90120</td>\n",
       "      <td>92.2054</td>\n",
       "      <td>91.8422</td>\n",
       "      <td>91.87420</td>\n",
       "      <td>91.8112</td>\n",
       "      <td>92.23919</td>\n",
       "      <td>93.58317</td>\n",
       "      <td>91.9012</td>\n",
       "      <td>92.0742</td>\n",
       "      <td>91.7952</td>\n",
       "    </tr>\n",
       "    <tr>\n",
       "      <th>8</th>\n",
       "      <td>92.92520</td>\n",
       "      <td>100.1770</td>\n",
       "      <td>91.90620</td>\n",
       "      <td>92.3022</td>\n",
       "      <td>93.7282</td>\n",
       "      <td>123.42200</td>\n",
       "      <td>91.6992</td>\n",
       "      <td>91.78420</td>\n",
       "      <td>91.77219</td>\n",
       "      <td>91.8362</td>\n",
       "      <td>...</td>\n",
       "      <td>91.90120</td>\n",
       "      <td>92.2954</td>\n",
       "      <td>91.8672</td>\n",
       "      <td>91.87420</td>\n",
       "      <td>91.8112</td>\n",
       "      <td>92.23919</td>\n",
       "      <td>93.58317</td>\n",
       "      <td>91.9012</td>\n",
       "      <td>92.0742</td>\n",
       "      <td>91.7842</td>\n",
       "    </tr>\n",
       "    <tr>\n",
       "      <th>9</th>\n",
       "      <td>93.11520</td>\n",
       "      <td>100.4460</td>\n",
       "      <td>91.80220</td>\n",
       "      <td>92.3022</td>\n",
       "      <td>93.7282</td>\n",
       "      <td>123.42200</td>\n",
       "      <td>91.6992</td>\n",
       "      <td>91.78420</td>\n",
       "      <td>91.77219</td>\n",
       "      <td>92.1942</td>\n",
       "      <td>...</td>\n",
       "      <td>91.97520</td>\n",
       "      <td>92.2934</td>\n",
       "      <td>91.7672</td>\n",
       "      <td>91.86520</td>\n",
       "      <td>91.8112</td>\n",
       "      <td>92.23919</td>\n",
       "      <td>93.58317</td>\n",
       "      <td>91.9012</td>\n",
       "      <td>92.0742</td>\n",
       "      <td>91.7842</td>\n",
       "    </tr>\n",
       "  </tbody>\n",
       "</table>\n",
       "<p>10 rows × 32 columns</p>\n",
       "</div>"
      ],
      "text/plain": [
       "   summit_elev  vertical_drop  base_elev    trams  fastSixes  fastQuads  \\\n",
       "0     91.21839        90.1314   91.91099  91.7842    91.7842   83.93881   \n",
       "1     91.55339        90.3174   91.90320  91.7842    91.7842   91.70120   \n",
       "2     91.79520        91.3234   91.81920  91.9152    91.7842   91.78420   \n",
       "3     91.71020        91.5282   91.75020  91.9152    92.6962  114.77400   \n",
       "4     91.44520        91.5142   91.83220  91.9152    92.6962  118.10900   \n",
       "5     91.78720        91.7392   91.72320  91.9152    92.6962  118.34700   \n",
       "6     91.80920        97.6392   91.96920  92.0572    92.7632  122.35600   \n",
       "7     92.85220       100.2120   91.82920  92.3022    92.7632  122.80500   \n",
       "8     92.92520       100.1770   91.90620  92.3022    93.7282  123.42200   \n",
       "9     93.11520       100.4460   91.80220  92.3022    93.7282  123.42200   \n",
       "\n",
       "      quad    triple    double  surface  ...  state_total_skiable_area_ac  \\\n",
       "0  90.7630  91.09619  91.78420  91.4812  ...                     92.93319   \n",
       "1  91.2362  91.33819  91.65319  91.2492  ...                     92.80819   \n",
       "2  91.7842  92.12019  91.56319  91.7772  ...                     92.97020   \n",
       "3  91.7822  92.14219  91.76219  91.7842  ...                     92.61920   \n",
       "4  91.9412  92.09019  91.76619  91.7962  ...                     91.74020   \n",
       "5  91.9412  92.09719  91.77219  91.7962  ...                     91.78420   \n",
       "6  91.9382  92.09819  91.77219  91.8512  ...                     91.83320   \n",
       "7  91.7402  91.78420  91.77219  91.8362  ...                     91.90120   \n",
       "8  91.6992  91.78420  91.77219  91.8362  ...                     91.90120   \n",
       "9  91.6992  91.78420  91.77219  92.1942  ...                     91.97520   \n",
       "\n",
       "   state_total_days_open  state_total_terrain_parks  \\\n",
       "0                91.7522                    92.1392   \n",
       "1                91.8212                    92.2092   \n",
       "2                91.7332                    92.1252   \n",
       "3                91.8702                    92.0242   \n",
       "4                92.0022                    91.7852   \n",
       "5                92.1984                    91.8542   \n",
       "6                92.1964                    91.8102   \n",
       "7                92.2054                    91.8422   \n",
       "8                92.2954                    91.8672   \n",
       "9                92.2934                    91.7672   \n",
       "\n",
       "   state_total_nightskiing_ac  resorts_per_100kcapita  \\\n",
       "0                    97.95299                 92.7192   \n",
       "1                    92.90199                 92.3472   \n",
       "2                    92.68000                 92.0912   \n",
       "3                    91.78920                 91.9392   \n",
       "4                    91.81320                 91.7842   \n",
       "5                    91.85420                 91.7952   \n",
       "6                    91.88020                 91.8112   \n",
       "7                    91.87420                 91.8112   \n",
       "8                    91.87420                 91.8112   \n",
       "9                    91.86520                 91.8112   \n",
       "\n",
       "   resorts_per_100ksq_mile  resort_skiable_area_ac_state_ratio  \\\n",
       "0                 91.95920                            90.89920   \n",
       "1                 92.40819                            91.76520   \n",
       "2                 92.20319                            92.02320   \n",
       "3                 92.19419                            92.06220   \n",
       "4                 92.19419                            92.12520   \n",
       "5                 92.20819                            92.23317   \n",
       "6                 92.20419                            93.58317   \n",
       "7                 92.23919                            93.58317   \n",
       "8                 92.23919                            93.58317   \n",
       "9                 92.23919                            93.58317   \n",
       "\n",
       "   resort_days_open_state_ratio  resort_terrain_park_state_ratio  \\\n",
       "0                       92.8282                          91.9456   \n",
       "1                       92.0092                          91.7602   \n",
       "2                       91.7942                          91.6852   \n",
       "3                       91.9852                          91.6962   \n",
       "4                       91.9852                          91.8882   \n",
       "5                       91.9442                          91.9082   \n",
       "6                       91.9012                          92.0742   \n",
       "7                       91.9012                          92.0742   \n",
       "8                       91.9012                          92.0742   \n",
       "9                       91.9012                          92.0742   \n",
       "\n",
       "   resort_night_skiing_state_ratio  \n",
       "0                          91.6154  \n",
       "1                          91.7882  \n",
       "2                          91.8182  \n",
       "3                          91.7722  \n",
       "4                          91.7582  \n",
       "5                          91.7812  \n",
       "6                          91.7902  \n",
       "7                          91.7952  \n",
       "8                          91.7842  \n",
       "9                          91.7842  \n",
       "\n",
       "[10 rows x 32 columns]"
      ]
     },
     "metadata": {},
     "output_type": "display_data"
    }
   ],
   "source": [
    "y_modelOutput"
   ]
  },
  {
   "cell_type": "code",
   "execution_count": 300,
   "metadata": {},
   "outputs": [],
   "source": [
    "modelLine['y'] = y_modelOutput[plotFeatures]"
   ]
  },
  {
   "cell_type": "code",
   "execution_count": 301,
   "metadata": {},
   "outputs": [],
   "source": [
    "modelLine['x'] = x_modelVars[plotFeatures]"
   ]
  },
  {
   "cell_type": "code",
   "execution_count": 302,
   "metadata": {},
   "outputs": [
    {
     "data": {
      "application/vnd.jupyter.widget-view+json": {
       "model_id": "b647ecb6dbab43d087efcaf107e10ae5"
      },
      "text/html": [
       "<div>\n",
       "<style scoped>\n",
       "    .dataframe tbody tr th:only-of-type {\n",
       "        vertical-align: middle;\n",
       "    }\n",
       "\n",
       "    .dataframe tbody tr th {\n",
       "        vertical-align: top;\n",
       "    }\n",
       "\n",
       "    .dataframe thead th {\n",
       "        text-align: right;\n",
       "    }\n",
       "</style>\n",
       "<table border=\"1\" class=\"dataframe\">\n",
       "  <thead>\n",
       "    <tr style=\"text-align: right;\">\n",
       "      <th></th>\n",
       "      <th>summit_elev</th>\n",
       "      <th>vertical_drop</th>\n",
       "      <th>base_elev</th>\n",
       "      <th>trams</th>\n",
       "      <th>fastSixes</th>\n",
       "      <th>fastQuads</th>\n",
       "      <th>quad</th>\n",
       "      <th>triple</th>\n",
       "      <th>double</th>\n",
       "      <th>surface</th>\n",
       "      <th>...</th>\n",
       "      <th>state_total_skiable_area_ac</th>\n",
       "      <th>state_total_days_open</th>\n",
       "      <th>state_total_terrain_parks</th>\n",
       "      <th>state_total_nightskiing_ac</th>\n",
       "      <th>resorts_per_100kcapita</th>\n",
       "      <th>resorts_per_100ksq_mile</th>\n",
       "      <th>resort_skiable_area_ac_state_ratio</th>\n",
       "      <th>resort_days_open_state_ratio</th>\n",
       "      <th>resort_terrain_park_state_ratio</th>\n",
       "      <th>resort_night_skiing_state_ratio</th>\n",
       "    </tr>\n",
       "  </thead>\n",
       "  <tbody>\n",
       "    <tr>\n",
       "      <th>0</th>\n",
       "      <td>440.0</td>\n",
       "      <td>60.0</td>\n",
       "      <td>100.0</td>\n",
       "      <td>0.0</td>\n",
       "      <td>0.0</td>\n",
       "      <td>0.0</td>\n",
       "      <td>0.0</td>\n",
       "      <td>0.0</td>\n",
       "      <td>0.0</td>\n",
       "      <td>0.0</td>\n",
       "      <td>...</td>\n",
       "      <td>0.0</td>\n",
       "      <td>69.0</td>\n",
       "      <td>1.0</td>\n",
       "      <td>0.0</td>\n",
       "      <td>0.014643</td>\n",
       "      <td>0.450867</td>\n",
       "      <td>0.001145</td>\n",
       "      <td>0.002542</td>\n",
       "      <td>0.012346</td>\n",
       "      <td>0.003115</td>\n",
       "    </tr>\n",
       "    <tr>\n",
       "      <th>1</th>\n",
       "      <td>1744.7</td>\n",
       "      <td>496.5</td>\n",
       "      <td>1170.0</td>\n",
       "      <td>0.3</td>\n",
       "      <td>0.2</td>\n",
       "      <td>1.5</td>\n",
       "      <td>0.8</td>\n",
       "      <td>0.8</td>\n",
       "      <td>1.4</td>\n",
       "      <td>0.9</td>\n",
       "      <td>...</td>\n",
       "      <td>4368.2</td>\n",
       "      <td>387.9</td>\n",
       "      <td>9.0</td>\n",
       "      <td>283.6</td>\n",
       "      <td>0.253568</td>\n",
       "      <td>17.519911</td>\n",
       "      <td>0.101030</td>\n",
       "      <td>0.102288</td>\n",
       "      <td>0.111111</td>\n",
       "      <td>0.102804</td>\n",
       "    </tr>\n",
       "    <tr>\n",
       "      <th>2</th>\n",
       "      <td>3049.4</td>\n",
       "      <td>933.0</td>\n",
       "      <td>2240.0</td>\n",
       "      <td>0.6</td>\n",
       "      <td>0.4</td>\n",
       "      <td>3.0</td>\n",
       "      <td>1.6</td>\n",
       "      <td>1.6</td>\n",
       "      <td>2.8</td>\n",
       "      <td>1.8</td>\n",
       "      <td>...</td>\n",
       "      <td>8736.4</td>\n",
       "      <td>706.8</td>\n",
       "      <td>17.0</td>\n",
       "      <td>567.2</td>\n",
       "      <td>0.492492</td>\n",
       "      <td>34.588954</td>\n",
       "      <td>0.200916</td>\n",
       "      <td>0.202034</td>\n",
       "      <td>0.209877</td>\n",
       "      <td>0.202492</td>\n",
       "    </tr>\n",
       "    <tr>\n",
       "      <th>3</th>\n",
       "      <td>4354.1</td>\n",
       "      <td>1369.5</td>\n",
       "      <td>3310.0</td>\n",
       "      <td>0.9</td>\n",
       "      <td>0.6</td>\n",
       "      <td>4.5</td>\n",
       "      <td>2.4</td>\n",
       "      <td>2.4</td>\n",
       "      <td>4.2</td>\n",
       "      <td>2.7</td>\n",
       "      <td>...</td>\n",
       "      <td>13104.6</td>\n",
       "      <td>1025.7</td>\n",
       "      <td>25.0</td>\n",
       "      <td>850.8</td>\n",
       "      <td>0.731417</td>\n",
       "      <td>51.657997</td>\n",
       "      <td>0.300801</td>\n",
       "      <td>0.301780</td>\n",
       "      <td>0.308642</td>\n",
       "      <td>0.302181</td>\n",
       "    </tr>\n",
       "    <tr>\n",
       "      <th>4</th>\n",
       "      <td>5658.8</td>\n",
       "      <td>1806.0</td>\n",
       "      <td>4380.0</td>\n",
       "      <td>1.2</td>\n",
       "      <td>0.8</td>\n",
       "      <td>6.0</td>\n",
       "      <td>3.2</td>\n",
       "      <td>3.2</td>\n",
       "      <td>5.6</td>\n",
       "      <td>3.6</td>\n",
       "      <td>...</td>\n",
       "      <td>17472.8</td>\n",
       "      <td>1344.6</td>\n",
       "      <td>33.0</td>\n",
       "      <td>1134.4</td>\n",
       "      <td>0.970341</td>\n",
       "      <td>68.727040</td>\n",
       "      <td>0.400687</td>\n",
       "      <td>0.401525</td>\n",
       "      <td>0.407407</td>\n",
       "      <td>0.401869</td>\n",
       "    </tr>\n",
       "    <tr>\n",
       "      <th>5</th>\n",
       "      <td>6963.5</td>\n",
       "      <td>2242.5</td>\n",
       "      <td>5450.0</td>\n",
       "      <td>1.5</td>\n",
       "      <td>1.0</td>\n",
       "      <td>7.5</td>\n",
       "      <td>4.0</td>\n",
       "      <td>4.0</td>\n",
       "      <td>7.0</td>\n",
       "      <td>4.5</td>\n",
       "      <td>...</td>\n",
       "      <td>21841.0</td>\n",
       "      <td>1663.5</td>\n",
       "      <td>41.0</td>\n",
       "      <td>1418.0</td>\n",
       "      <td>1.209266</td>\n",
       "      <td>85.796083</td>\n",
       "      <td>0.500572</td>\n",
       "      <td>0.501271</td>\n",
       "      <td>0.506173</td>\n",
       "      <td>0.501558</td>\n",
       "    </tr>\n",
       "    <tr>\n",
       "      <th>6</th>\n",
       "      <td>8268.2</td>\n",
       "      <td>2679.0</td>\n",
       "      <td>6520.0</td>\n",
       "      <td>1.8</td>\n",
       "      <td>1.2</td>\n",
       "      <td>9.0</td>\n",
       "      <td>4.8</td>\n",
       "      <td>4.8</td>\n",
       "      <td>8.4</td>\n",
       "      <td>5.4</td>\n",
       "      <td>...</td>\n",
       "      <td>26209.2</td>\n",
       "      <td>1982.4</td>\n",
       "      <td>49.0</td>\n",
       "      <td>1701.6</td>\n",
       "      <td>1.448190</td>\n",
       "      <td>102.865126</td>\n",
       "      <td>0.600458</td>\n",
       "      <td>0.601017</td>\n",
       "      <td>0.604938</td>\n",
       "      <td>0.601246</td>\n",
       "    </tr>\n",
       "    <tr>\n",
       "      <th>7</th>\n",
       "      <td>9572.9</td>\n",
       "      <td>3115.5</td>\n",
       "      <td>7590.0</td>\n",
       "      <td>2.1</td>\n",
       "      <td>1.4</td>\n",
       "      <td>10.5</td>\n",
       "      <td>5.6</td>\n",
       "      <td>5.6</td>\n",
       "      <td>9.8</td>\n",
       "      <td>6.3</td>\n",
       "      <td>...</td>\n",
       "      <td>30577.4</td>\n",
       "      <td>2301.3</td>\n",
       "      <td>57.0</td>\n",
       "      <td>1985.2</td>\n",
       "      <td>1.687115</td>\n",
       "      <td>119.934169</td>\n",
       "      <td>0.700343</td>\n",
       "      <td>0.700763</td>\n",
       "      <td>0.703704</td>\n",
       "      <td>0.700935</td>\n",
       "    </tr>\n",
       "    <tr>\n",
       "      <th>8</th>\n",
       "      <td>10877.6</td>\n",
       "      <td>3552.0</td>\n",
       "      <td>8660.0</td>\n",
       "      <td>2.4</td>\n",
       "      <td>1.6</td>\n",
       "      <td>12.0</td>\n",
       "      <td>6.4</td>\n",
       "      <td>6.4</td>\n",
       "      <td>11.2</td>\n",
       "      <td>7.2</td>\n",
       "      <td>...</td>\n",
       "      <td>34945.6</td>\n",
       "      <td>2620.2</td>\n",
       "      <td>65.0</td>\n",
       "      <td>2268.8</td>\n",
       "      <td>1.926039</td>\n",
       "      <td>137.003212</td>\n",
       "      <td>0.800229</td>\n",
       "      <td>0.800508</td>\n",
       "      <td>0.802469</td>\n",
       "      <td>0.800623</td>\n",
       "    </tr>\n",
       "    <tr>\n",
       "      <th>9</th>\n",
       "      <td>12182.3</td>\n",
       "      <td>3988.5</td>\n",
       "      <td>9730.0</td>\n",
       "      <td>2.7</td>\n",
       "      <td>1.8</td>\n",
       "      <td>13.5</td>\n",
       "      <td>7.2</td>\n",
       "      <td>7.2</td>\n",
       "      <td>12.6</td>\n",
       "      <td>8.1</td>\n",
       "      <td>...</td>\n",
       "      <td>39313.8</td>\n",
       "      <td>2939.1</td>\n",
       "      <td>73.0</td>\n",
       "      <td>2552.4</td>\n",
       "      <td>2.164964</td>\n",
       "      <td>154.072255</td>\n",
       "      <td>0.900114</td>\n",
       "      <td>0.900254</td>\n",
       "      <td>0.901235</td>\n",
       "      <td>0.900312</td>\n",
       "    </tr>\n",
       "  </tbody>\n",
       "</table>\n",
       "<p>10 rows × 32 columns</p>\n",
       "</div>"
      ],
      "text/plain": [
       "   summit_elev  vertical_drop  base_elev  trams  fastSixes  fastQuads  quad  \\\n",
       "0        440.0           60.0      100.0    0.0        0.0        0.0   0.0   \n",
       "1       1744.7          496.5     1170.0    0.3        0.2        1.5   0.8   \n",
       "2       3049.4          933.0     2240.0    0.6        0.4        3.0   1.6   \n",
       "3       4354.1         1369.5     3310.0    0.9        0.6        4.5   2.4   \n",
       "4       5658.8         1806.0     4380.0    1.2        0.8        6.0   3.2   \n",
       "5       6963.5         2242.5     5450.0    1.5        1.0        7.5   4.0   \n",
       "6       8268.2         2679.0     6520.0    1.8        1.2        9.0   4.8   \n",
       "7       9572.9         3115.5     7590.0    2.1        1.4       10.5   5.6   \n",
       "8      10877.6         3552.0     8660.0    2.4        1.6       12.0   6.4   \n",
       "9      12182.3         3988.5     9730.0    2.7        1.8       13.5   7.2   \n",
       "\n",
       "   triple  double  surface  ...  state_total_skiable_area_ac  \\\n",
       "0     0.0     0.0      0.0  ...                          0.0   \n",
       "1     0.8     1.4      0.9  ...                       4368.2   \n",
       "2     1.6     2.8      1.8  ...                       8736.4   \n",
       "3     2.4     4.2      2.7  ...                      13104.6   \n",
       "4     3.2     5.6      3.6  ...                      17472.8   \n",
       "5     4.0     7.0      4.5  ...                      21841.0   \n",
       "6     4.8     8.4      5.4  ...                      26209.2   \n",
       "7     5.6     9.8      6.3  ...                      30577.4   \n",
       "8     6.4    11.2      7.2  ...                      34945.6   \n",
       "9     7.2    12.6      8.1  ...                      39313.8   \n",
       "\n",
       "   state_total_days_open  state_total_terrain_parks  \\\n",
       "0                   69.0                        1.0   \n",
       "1                  387.9                        9.0   \n",
       "2                  706.8                       17.0   \n",
       "3                 1025.7                       25.0   \n",
       "4                 1344.6                       33.0   \n",
       "5                 1663.5                       41.0   \n",
       "6                 1982.4                       49.0   \n",
       "7                 2301.3                       57.0   \n",
       "8                 2620.2                       65.0   \n",
       "9                 2939.1                       73.0   \n",
       "\n",
       "   state_total_nightskiing_ac  resorts_per_100kcapita  \\\n",
       "0                         0.0                0.014643   \n",
       "1                       283.6                0.253568   \n",
       "2                       567.2                0.492492   \n",
       "3                       850.8                0.731417   \n",
       "4                      1134.4                0.970341   \n",
       "5                      1418.0                1.209266   \n",
       "6                      1701.6                1.448190   \n",
       "7                      1985.2                1.687115   \n",
       "8                      2268.8                1.926039   \n",
       "9                      2552.4                2.164964   \n",
       "\n",
       "   resorts_per_100ksq_mile  resort_skiable_area_ac_state_ratio  \\\n",
       "0                 0.450867                            0.001145   \n",
       "1                17.519911                            0.101030   \n",
       "2                34.588954                            0.200916   \n",
       "3                51.657997                            0.300801   \n",
       "4                68.727040                            0.400687   \n",
       "5                85.796083                            0.500572   \n",
       "6               102.865126                            0.600458   \n",
       "7               119.934169                            0.700343   \n",
       "8               137.003212                            0.800229   \n",
       "9               154.072255                            0.900114   \n",
       "\n",
       "   resort_days_open_state_ratio  resort_terrain_park_state_ratio  \\\n",
       "0                      0.002542                         0.012346   \n",
       "1                      0.102288                         0.111111   \n",
       "2                      0.202034                         0.209877   \n",
       "3                      0.301780                         0.308642   \n",
       "4                      0.401525                         0.407407   \n",
       "5                      0.501271                         0.506173   \n",
       "6                      0.601017                         0.604938   \n",
       "7                      0.700763                         0.703704   \n",
       "8                      0.800508                         0.802469   \n",
       "9                      0.900254                         0.901235   \n",
       "\n",
       "   resort_night_skiing_state_ratio  \n",
       "0                         0.003115  \n",
       "1                         0.102804  \n",
       "2                         0.202492  \n",
       "3                         0.302181  \n",
       "4                         0.401869  \n",
       "5                         0.501558  \n",
       "6                         0.601246  \n",
       "7                         0.700935  \n",
       "8                         0.800623  \n",
       "9                         0.900312  \n",
       "\n",
       "[10 rows x 32 columns]"
      ]
     },
     "metadata": {},
     "output_type": "display_data"
    }
   ],
   "source": [
    "x_modelVars"
   ]
  },
  {
   "cell_type": "code",
   "execution_count": 303,
   "metadata": {},
   "outputs": [
    {
     "data": {
      "text/plain": [
       "<matplotlib.axes._subplots.AxesSubplot at 0x1beca36cf88>"
      ]
     },
     "execution_count": 303,
     "metadata": {},
     "output_type": "execute_result"
    },
    {
     "data": {
      "image/png": "[encoded data removed]",
      "text/plain": [
       "<Figure size 432x288 with 1 Axes>"
      ]
     },
     "metadata": {
      "needs_background": "light"
     },
     "output_type": "display_data"
    }
   ],
   "source": [
    "sb.lineplot(x='x', y='y', data=modelLine)"
   ]
  },
  {
   "cell_type": "code",
   "execution_count": 293,
   "metadata": {},
   "outputs": [
    {
     "data": {
      "image/png": "[encoded data removed]",
      "text/plain": [
       "<Figure size 432x288 with 1 Axes>"
      ]
     },
     "metadata": {
      "needs_background": "light"
     },
     "output_type": "display_data"
    }
   ],
   "source": [
    "fig, ax = plt.subplots()\n",
    "sb.regplot(x=plotFeatures, y=plotFeatures, color='r', data=sPlotData)  #, ax=ax)\n",
    "plt.show()"
   ]
  },
  {
   "cell_type": "code",
   "execution_count": 209,
   "metadata": {},
   "outputs": [
    {
     "data": {
      "text/plain": [
       "<matplotlib.axes._subplots.AxesSubplot at 0x22328c39848>"
      ]
     },
     "execution_count": 209,
     "metadata": {},
     "output_type": "execute_result"
    }
   ],
   "source": [
    "sb.regplot(x='vertical_drop', y='AdultWeekend', data=dfPlot, ax=ax)"
   ]
  },
  {
   "cell_type": "code",
   "execution_count": 376,
   "metadata": {},
   "outputs": [
    {
     "ename": "AttributeError",
     "evalue": "module 'seaborn' has no attribute 'show'",
     "output_type": "error",
     "traceback": [
      "\u001b[1;31m---------------------------------------------------------------------------\u001b[0m",
      "\u001b[1;31mAttributeError\u001b[0m                            Traceback (most recent call last)",
      "\u001b[1;32m<ipython-input-376-0ae396ff9a17>\u001b[0m in \u001b[0;36m<module>\u001b[1;34m\u001b[0m\n\u001b[1;32m----> 1\u001b[1;33m \u001b[0msb\u001b[0m\u001b[1;33m.\u001b[0m\u001b[0mshow\u001b[0m\u001b[1;33m(\u001b[0m\u001b[1;33m)\u001b[0m\u001b[1;33m\u001b[0m\u001b[1;33m\u001b[0m\u001b[0m\n\u001b[0m",
      "\u001b[1;31mAttributeError\u001b[0m: module 'seaborn' has no attribute 'show'"
     ]
    }
   ],
   "source": [
    "sb.show()"
   ]
  },
  {
   "cell_type": "code",
   "execution_count": 57,
   "metadata": {},
   "outputs": [],
   "source": [
    "X_bm"
   ]
  },
  {
   "cell_type": "code",
   "execution_count": 101,
   "metadata": {},
   "outputs": [
    {
     "data": {
      "text/plain": [
       "<matplotlib.collections.PathCollection at 0x22325ee1608>"
      ]
     },
     "execution_count": 101,
     "metadata": {},
     "output_type": "execute_result"
    },
    {
     "data": {
      "image/png": "[encoded data removed]",
      "text/plain": [
       "<Figure size 432x288 with 1 Axes>"
      ]
     },
     "metadata": {
      "needs_background": "light"
     },
     "output_type": "display_data"
    }
   ],
   "source": [
    "plt.scatter(x,y)"
   ]
  },
  {
   "cell_type": "code",
   "execution_count": null,
   "metadata": {},
   "outputs": [],
   "source": [
    "X_bm"
   ]
  },
  {
   "cell_type": "code",
   "execution_count": null,
   "metadata": {},
   "outputs": [],
   "source": [
    "# Divide y from x plot parameters\n",
    "x_features = dfPlot\n",
    "y_prices = pd.DataFrame(x_features.pop('AdultWeekend'))\n",
    "y_bmrPrice = x_bmr.pop('AdultWeekend')"
   ]
  },
  {
   "cell_type": "code",
   "execution_count": 58,
   "metadata": {},
   "outputs": [
    {
     "data": {
      "application/vnd.jupyter.widget-view+json": {
       "model_id": "70a5c21f03bb4582be67866904318e90"
      },
      "text/html": [
       "<div>\n",
       "<style scoped>\n",
       "    .dataframe tbody tr th:only-of-type {\n",
       "        vertical-align: middle;\n",
       "    }\n",
       "\n",
       "    .dataframe tbody tr th {\n",
       "        vertical-align: top;\n",
       "    }\n",
       "\n",
       "    .dataframe thead th {\n",
       "        text-align: right;\n",
       "    }\n",
       "</style>\n",
       "<table border=\"1\" class=\"dataframe\">\n",
       "  <thead>\n",
       "    <tr style=\"text-align: right;\">\n",
       "      <th></th>\n",
       "      <th>vertical_drop</th>\n",
       "    </tr>\n",
       "  </thead>\n",
       "  <tbody>\n",
       "    <tr>\n",
       "      <th>0</th>\n",
       "      <td>60</td>\n",
       "    </tr>\n",
       "    <tr>\n",
       "      <th>1</th>\n",
       "      <td>103.65</td>\n",
       "    </tr>\n",
       "    <tr>\n",
       "      <th>2</th>\n",
       "      <td>147.3</td>\n",
       "    </tr>\n",
       "    <tr>\n",
       "      <th>3</th>\n",
       "      <td>190.95</td>\n",
       "    </tr>\n",
       "    <tr>\n",
       "      <th>4</th>\n",
       "      <td>234.6</td>\n",
       "    </tr>\n",
       "    <tr>\n",
       "      <th>...</th>\n",
       "      <td>...</td>\n",
       "    </tr>\n",
       "    <tr>\n",
       "      <th>95</th>\n",
       "      <td>4206.75</td>\n",
       "    </tr>\n",
       "    <tr>\n",
       "      <th>96</th>\n",
       "      <td>4250.4</td>\n",
       "    </tr>\n",
       "    <tr>\n",
       "      <th>97</th>\n",
       "      <td>4294.05</td>\n",
       "    </tr>\n",
       "    <tr>\n",
       "      <th>98</th>\n",
       "      <td>4337.7</td>\n",
       "    </tr>\n",
       "    <tr>\n",
       "      <th>99</th>\n",
       "      <td>4381.35</td>\n",
       "    </tr>\n",
       "  </tbody>\n",
       "</table>\n",
       "<p>100 rows × 1 columns</p>\n",
       "</div>"
      ],
      "text/plain": [
       "   vertical_drop\n",
       "0             60\n",
       "1         103.65\n",
       "2          147.3\n",
       "3         190.95\n",
       "4          234.6\n",
       "..           ...\n",
       "95       4206.75\n",
       "96        4250.4\n",
       "97       4294.05\n",
       "98        4337.7\n",
       "99       4381.35\n",
       "\n",
       "[100 rows x 1 columns]"
      ]
     },
     "metadata": {},
     "output_type": "display_data"
    }
   ],
   "source": [
    "x_modelVars.loc[:,features]"
   ]
  },
  {
   "cell_type": "code",
   "execution_count": 59,
   "metadata": {},
   "outputs": [],
   "source": [
    "dfGraph = pd.DataFrame(columns=features, index=x_modelVars.index)\n"
   ]
  },
  {
   "cell_type": "code",
   "execution_count": 62,
   "metadata": {},
   "outputs": [],
   "source": [
    "dfGraph = x_modelVars.loc[:,features]"
   ]
  },
  {
   "cell_type": "code",
   "execution_count": 63,
   "metadata": {},
   "outputs": [
    {
     "data": {
      "application/vnd.jupyter.widget-view+json": {
       "model_id": "5c3af1ceee2c4b2899b66029c21f3954"
      },
      "text/html": [
       "<div>\n",
       "<style scoped>\n",
       "    .dataframe tbody tr th:only-of-type {\n",
       "        vertical-align: middle;\n",
       "    }\n",
       "\n",
       "    .dataframe tbody tr th {\n",
       "        vertical-align: top;\n",
       "    }\n",
       "\n",
       "    .dataframe thead th {\n",
       "        text-align: right;\n",
       "    }\n",
       "</style>\n",
       "<table border=\"1\" class=\"dataframe\">\n",
       "  <thead>\n",
       "    <tr style=\"text-align: right;\">\n",
       "      <th></th>\n",
       "      <th>vertical_drop</th>\n",
       "    </tr>\n",
       "  </thead>\n",
       "  <tbody>\n",
       "    <tr>\n",
       "      <th>0</th>\n",
       "      <td>60</td>\n",
       "    </tr>\n",
       "    <tr>\n",
       "      <th>1</th>\n",
       "      <td>103.65</td>\n",
       "    </tr>\n",
       "    <tr>\n",
       "      <th>2</th>\n",
       "      <td>147.3</td>\n",
       "    </tr>\n",
       "    <tr>\n",
       "      <th>3</th>\n",
       "      <td>190.95</td>\n",
       "    </tr>\n",
       "    <tr>\n",
       "      <th>4</th>\n",
       "      <td>234.6</td>\n",
       "    </tr>\n",
       "    <tr>\n",
       "      <th>...</th>\n",
       "      <td>...</td>\n",
       "    </tr>\n",
       "    <tr>\n",
       "      <th>95</th>\n",
       "      <td>4206.75</td>\n",
       "    </tr>\n",
       "    <tr>\n",
       "      <th>96</th>\n",
       "      <td>4250.4</td>\n",
       "    </tr>\n",
       "    <tr>\n",
       "      <th>97</th>\n",
       "      <td>4294.05</td>\n",
       "    </tr>\n",
       "    <tr>\n",
       "      <th>98</th>\n",
       "      <td>4337.7</td>\n",
       "    </tr>\n",
       "    <tr>\n",
       "      <th>99</th>\n",
       "      <td>4381.35</td>\n",
       "    </tr>\n",
       "  </tbody>\n",
       "</table>\n",
       "<p>100 rows × 1 columns</p>\n",
       "</div>"
      ],
      "text/plain": [
       "   vertical_drop\n",
       "0             60\n",
       "1         103.65\n",
       "2          147.3\n",
       "3         190.95\n",
       "4          234.6\n",
       "..           ...\n",
       "95       4206.75\n",
       "96        4250.4\n",
       "97       4294.05\n",
       "98        4337.7\n",
       "99       4381.35\n",
       "\n",
       "[100 rows x 1 columns]"
      ]
     },
     "metadata": {},
     "output_type": "display_data"
    }
   ],
   "source": [
    "dfGraph"
   ]
  },
  {
   "cell_type": "code",
   "execution_count": 61,
   "metadata": {},
   "outputs": [
    {
     "ename": "KeyError",
     "evalue": "\"None of [Index(['vertical_drop'], dtype='object')] are in the [index]\"",
     "output_type": "error",
     "traceback": [
      "\u001b[1;31m---------------------------------------------------------------------------\u001b[0m",
      "\u001b[1;31mKeyError\u001b[0m                                  Traceback (most recent call last)",
      "\u001b[1;32m<ipython-input-61-c05dc02d20fb>\u001b[0m in \u001b[0;36m<module>\u001b[1;34m\u001b[0m\n\u001b[1;32m----> 1\u001b[1;33m \u001b[0mdfGraph\u001b[0m\u001b[1;33m.\u001b[0m\u001b[0mloc\u001b[0m\u001b[1;33m[\u001b[0m\u001b[0mfeatures\u001b[0m\u001b[1;33m]\u001b[0m \u001b[1;33m=\u001b[0m \u001b[0mx_modelVars\u001b[0m\u001b[1;33m.\u001b[0m\u001b[0mloc\u001b[0m\u001b[1;33m[\u001b[0m\u001b[1;33m:\u001b[0m\u001b[1;33m,\u001b[0m\u001b[0mfeatures\u001b[0m\u001b[1;33m]\u001b[0m\u001b[1;33m\u001b[0m\u001b[1;33m\u001b[0m\u001b[0m\n\u001b[0m",
      "\u001b[1;32mC:\\Users\\1\\anaconda3\\lib\\site-packages\\pandas\\core\\indexing.py\u001b[0m in \u001b[0;36m__setitem__\u001b[1;34m(self, key, value)\u001b[0m\n\u001b[0;32m    664\u001b[0m         \u001b[1;32melse\u001b[0m\u001b[1;33m:\u001b[0m\u001b[1;33m\u001b[0m\u001b[1;33m\u001b[0m\u001b[0m\n\u001b[0;32m    665\u001b[0m             \u001b[0mkey\u001b[0m \u001b[1;33m=\u001b[0m \u001b[0mcom\u001b[0m\u001b[1;33m.\u001b[0m\u001b[0mapply_if_callable\u001b[0m\u001b[1;33m(\u001b[0m\u001b[0mkey\u001b[0m\u001b[1;33m,\u001b[0m \u001b[0mself\u001b[0m\u001b[1;33m.\u001b[0m\u001b[0mobj\u001b[0m\u001b[1;33m)\u001b[0m\u001b[1;33m\u001b[0m\u001b[1;33m\u001b[0m\u001b[0m\n\u001b[1;32m--> 666\u001b[1;33m         \u001b[0mindexer\u001b[0m \u001b[1;33m=\u001b[0m \u001b[0mself\u001b[0m\u001b[1;33m.\u001b[0m\u001b[0m_get_setitem_indexer\u001b[0m\u001b[1;33m(\u001b[0m\u001b[0mkey\u001b[0m\u001b[1;33m)\u001b[0m\u001b[1;33m\u001b[0m\u001b[1;33m\u001b[0m\u001b[0m\n\u001b[0m\u001b[0;32m    667\u001b[0m         \u001b[0mself\u001b[0m\u001b[1;33m.\u001b[0m\u001b[0m_has_valid_setitem_indexer\u001b[0m\u001b[1;33m(\u001b[0m\u001b[0mkey\u001b[0m\u001b[1;33m)\u001b[0m\u001b[1;33m\u001b[0m\u001b[1;33m\u001b[0m\u001b[0m\n\u001b[0;32m    668\u001b[0m \u001b[1;33m\u001b[0m\u001b[0m\n",
      "\u001b[1;32mC:\\Users\\1\\anaconda3\\lib\\site-packages\\pandas\\core\\indexing.py\u001b[0m in \u001b[0;36m_get_setitem_indexer\u001b[1;34m(self, key)\u001b[0m\n\u001b[0;32m    615\u001b[0m \u001b[1;33m\u001b[0m\u001b[0m\n\u001b[0;32m    616\u001b[0m         \u001b[1;32mtry\u001b[0m\u001b[1;33m:\u001b[0m\u001b[1;33m\u001b[0m\u001b[1;33m\u001b[0m\u001b[0m\n\u001b[1;32m--> 617\u001b[1;33m             \u001b[1;32mreturn\u001b[0m \u001b[0mself\u001b[0m\u001b[1;33m.\u001b[0m\u001b[0m_convert_to_indexer\u001b[0m\u001b[1;33m(\u001b[0m\u001b[0mkey\u001b[0m\u001b[1;33m,\u001b[0m \u001b[0maxis\u001b[0m\u001b[1;33m=\u001b[0m\u001b[1;36m0\u001b[0m\u001b[1;33m,\u001b[0m \u001b[0mis_setter\u001b[0m\u001b[1;33m=\u001b[0m\u001b[1;32mTrue\u001b[0m\u001b[1;33m)\u001b[0m\u001b[1;33m\u001b[0m\u001b[1;33m\u001b[0m\u001b[0m\n\u001b[0m\u001b[0;32m    618\u001b[0m         \u001b[1;32mexcept\u001b[0m \u001b[0mTypeError\u001b[0m \u001b[1;32mas\u001b[0m \u001b[0me\u001b[0m\u001b[1;33m:\u001b[0m\u001b[1;33m\u001b[0m\u001b[1;33m\u001b[0m\u001b[0m\n\u001b[0;32m    619\u001b[0m \u001b[1;33m\u001b[0m\u001b[0m\n",
      "\u001b[1;32mC:\\Users\\1\\anaconda3\\lib\\site-packages\\pandas\\core\\indexing.py\u001b[0m in \u001b[0;36m_convert_to_indexer\u001b[1;34m(self, key, axis, is_setter)\u001b[0m\n\u001b[0;32m   1196\u001b[0m             \u001b[1;32melse\u001b[0m\u001b[1;33m:\u001b[0m\u001b[1;33m\u001b[0m\u001b[1;33m\u001b[0m\u001b[0m\n\u001b[0;32m   1197\u001b[0m                 \u001b[1;31m# When setting, missing keys are not allowed, even with .loc:\u001b[0m\u001b[1;33m\u001b[0m\u001b[1;33m\u001b[0m\u001b[1;33m\u001b[0m\u001b[0m\n\u001b[1;32m-> 1198\u001b[1;33m                 \u001b[1;32mreturn\u001b[0m \u001b[0mself\u001b[0m\u001b[1;33m.\u001b[0m\u001b[0m_get_listlike_indexer\u001b[0m\u001b[1;33m(\u001b[0m\u001b[0mkey\u001b[0m\u001b[1;33m,\u001b[0m \u001b[0maxis\u001b[0m\u001b[1;33m,\u001b[0m \u001b[0mraise_missing\u001b[0m\u001b[1;33m=\u001b[0m\u001b[1;32mTrue\u001b[0m\u001b[1;33m)\u001b[0m\u001b[1;33m[\u001b[0m\u001b[1;36m1\u001b[0m\u001b[1;33m]\u001b[0m\u001b[1;33m\u001b[0m\u001b[1;33m\u001b[0m\u001b[0m\n\u001b[0m\u001b[0;32m   1199\u001b[0m         \u001b[1;32melse\u001b[0m\u001b[1;33m:\u001b[0m\u001b[1;33m\u001b[0m\u001b[1;33m\u001b[0m\u001b[0m\n\u001b[0;32m   1200\u001b[0m             \u001b[1;32mtry\u001b[0m\u001b[1;33m:\u001b[0m\u001b[1;33m\u001b[0m\u001b[1;33m\u001b[0m\u001b[0m\n",
      "\u001b[1;32mC:\\Users\\1\\anaconda3\\lib\\site-packages\\pandas\\core\\indexing.py\u001b[0m in \u001b[0;36m_get_listlike_indexer\u001b[1;34m(self, key, axis, raise_missing)\u001b[0m\n\u001b[0;32m   1252\u001b[0m             \u001b[0mkeyarr\u001b[0m\u001b[1;33m,\u001b[0m \u001b[0mindexer\u001b[0m\u001b[1;33m,\u001b[0m \u001b[0mnew_indexer\u001b[0m \u001b[1;33m=\u001b[0m \u001b[0max\u001b[0m\u001b[1;33m.\u001b[0m\u001b[0m_reindex_non_unique\u001b[0m\u001b[1;33m(\u001b[0m\u001b[0mkeyarr\u001b[0m\u001b[1;33m)\u001b[0m\u001b[1;33m\u001b[0m\u001b[1;33m\u001b[0m\u001b[0m\n\u001b[0;32m   1253\u001b[0m \u001b[1;33m\u001b[0m\u001b[0m\n\u001b[1;32m-> 1254\u001b[1;33m         \u001b[0mself\u001b[0m\u001b[1;33m.\u001b[0m\u001b[0m_validate_read_indexer\u001b[0m\u001b[1;33m(\u001b[0m\u001b[0mkeyarr\u001b[0m\u001b[1;33m,\u001b[0m \u001b[0mindexer\u001b[0m\u001b[1;33m,\u001b[0m \u001b[0maxis\u001b[0m\u001b[1;33m,\u001b[0m \u001b[0mraise_missing\u001b[0m\u001b[1;33m=\u001b[0m\u001b[0mraise_missing\u001b[0m\u001b[1;33m)\u001b[0m\u001b[1;33m\u001b[0m\u001b[1;33m\u001b[0m\u001b[0m\n\u001b[0m\u001b[0;32m   1255\u001b[0m         \u001b[1;32mreturn\u001b[0m \u001b[0mkeyarr\u001b[0m\u001b[1;33m,\u001b[0m \u001b[0mindexer\u001b[0m\u001b[1;33m\u001b[0m\u001b[1;33m\u001b[0m\u001b[0m\n\u001b[0;32m   1256\u001b[0m \u001b[1;33m\u001b[0m\u001b[0m\n",
      "\u001b[1;32mC:\\Users\\1\\anaconda3\\lib\\site-packages\\pandas\\core\\indexing.py\u001b[0m in \u001b[0;36m_validate_read_indexer\u001b[1;34m(self, key, indexer, axis, raise_missing)\u001b[0m\n\u001b[0;32m   1296\u001b[0m             \u001b[1;32mif\u001b[0m \u001b[0mmissing\u001b[0m \u001b[1;33m==\u001b[0m \u001b[0mlen\u001b[0m\u001b[1;33m(\u001b[0m\u001b[0mindexer\u001b[0m\u001b[1;33m)\u001b[0m\u001b[1;33m:\u001b[0m\u001b[1;33m\u001b[0m\u001b[1;33m\u001b[0m\u001b[0m\n\u001b[0;32m   1297\u001b[0m                 \u001b[0maxis_name\u001b[0m \u001b[1;33m=\u001b[0m \u001b[0mself\u001b[0m\u001b[1;33m.\u001b[0m\u001b[0mobj\u001b[0m\u001b[1;33m.\u001b[0m\u001b[0m_get_axis_name\u001b[0m\u001b[1;33m(\u001b[0m\u001b[0maxis\u001b[0m\u001b[1;33m)\u001b[0m\u001b[1;33m\u001b[0m\u001b[1;33m\u001b[0m\u001b[0m\n\u001b[1;32m-> 1298\u001b[1;33m                 \u001b[1;32mraise\u001b[0m \u001b[0mKeyError\u001b[0m\u001b[1;33m(\u001b[0m\u001b[1;34mf\"None of [{key}] are in the [{axis_name}]\"\u001b[0m\u001b[1;33m)\u001b[0m\u001b[1;33m\u001b[0m\u001b[1;33m\u001b[0m\u001b[0m\n\u001b[0m\u001b[0;32m   1299\u001b[0m \u001b[1;33m\u001b[0m\u001b[0m\n\u001b[0;32m   1300\u001b[0m             \u001b[1;31m# We (temporarily) allow for some missing keys with .loc, except in\u001b[0m\u001b[1;33m\u001b[0m\u001b[1;33m\u001b[0m\u001b[1;33m\u001b[0m\u001b[0m\n",
      "\u001b[1;31mKeyError\u001b[0m: \"None of [Index(['vertical_drop'], dtype='object')] are in the [index]\""
     ]
    }
   ],
   "source": [
    "dfGraph.loc[features] = x_modelVars.loc[:,features]"
   ]
  },
  {
   "cell_type": "code",
   "execution_count": 45,
   "metadata": {},
   "outputs": [
    {
     "data": {
      "application/vnd.jupyter.widget-view+json": {
       "model_id": "6d179af2b5c94997aa815c5033671cce"
      },
      "text/html": [
       "<div>\n",
       "<style scoped>\n",
       "    .dataframe tbody tr th:only-of-type {\n",
       "        vertical-align: middle;\n",
       "    }\n",
       "\n",
       "    .dataframe tbody tr th {\n",
       "        vertical-align: top;\n",
       "    }\n",
       "\n",
       "    .dataframe thead th {\n",
       "        text-align: right;\n",
       "    }\n",
       "</style>\n",
       "<table border=\"1\" class=\"dataframe\">\n",
       "  <thead>\n",
       "    <tr style=\"text-align: right;\">\n",
       "      <th></th>\n",
       "      <th>x</th>\n",
       "      <th>y</th>\n",
       "      <th>hue</th>\n",
       "    </tr>\n",
       "  </thead>\n",
       "  <tbody>\n",
       "  </tbody>\n",
       "</table>\n",
       "</div>"
      ],
      "text/plain": [
       "Empty DataFrame\n",
       "Columns: [x, y, hue]\n",
       "Index: []"
      ]
     },
     "metadata": {},
     "output_type": "display_data"
    }
   ],
   "source": [
    "dfGraph = dfGraph.reset_index()\n",
    "dfGraph"
   ]
  },
  {
   "cell_type": "code",
   "execution_count": null,
   "metadata": {},
   "outputs": [],
   "source": [
    "# define useful function to create scatterplots of ticket prices against desired columns\n",
    "def scatterplots(columns, ncol=None, figsize=(15, 8)):\n",
    "    if ncol is None:\n",
    "        ncol = len(columns)\n",
    "    nrow = int(np.ceil(len(columns) / ncol))\n",
    "    fig, axes = plt.subplots(nrow, ncol, figsize=figsize, squeeze=False)\n",
    "    fig.subplots_adjust(wspace=0.5, hspace=0.6)\n",
    "    for i, col in enumerate(columns):\n",
    "        ax = axes.flatten()[i]\n",
    "        ax.scatter(x = col, y = 'AdultWeekend', data=ski_data, alpha=0.5)\n",
    "        ax.set(xlabel=col, ylabel='Ticket price')\n",
    "    nsubplots = nrow * ncol    \n",
    "    for empty in range(i+1, nsubplots):\n",
    "        axes.flatten()[empty].set_visible(False)"
   ]
  }
 ],
 "metadata": {
  "kernelspec": {
   "display_name": "Python 3",
   "language": "python",
   "name": "python3"
  },
  "language_info": {
   "codemirror_mode": {
    "name": "ipython",
    "version": 3
   },
   "file_extension": ".py",
   "mimetype": "text/x-python",
   "name": "python",
   "nbconvert_exporter": "python",
   "pygments_lexer": "ipython3",
   "version": "3.7.6"
  }
 },
 "nbformat": 4,
 "nbformat_minor": 4
}
